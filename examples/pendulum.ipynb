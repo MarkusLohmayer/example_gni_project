{
 "cells": [
  {
   "cell_type": "code",
   "execution_count": null,
   "id": "2d8faea7-94d2-4a6f-be7c-73bd2e210f18",
   "metadata": {},
   "outputs": [],
   "source": [
    "import autograd.numpy as np\n",
    "import ipywidgets\n",
    "from example_gni_project import *"
   ]
  },
  {
   "cell_type": "code",
   "execution_count": null,
   "id": "244ddb1e-ee2e-426a-83be-352376711e33",
   "metadata": {},
   "outputs": [],
   "source": [
    "def vector_field_pendulum(x):\n",
    "    q, p = x\n",
    "    return np.array([p, -np.sin(q)])\n",
    "\n",
    "ivp_pendulum = IVP((\"q\", \"p\"), vector_field_pendulum, np.array([1., 0.]))"
   ]
  },
  {
   "cell_type": "code",
   "execution_count": null,
   "id": "e9e1b510-19fc-4929-8765-b2cb7b46c437",
   "metadata": {},
   "outputs": [],
   "source": [
    "def pendulum_energy(x):\n",
    "    q, p = x\n",
    "    return 1/2 * p**2 + (1 - np.cos(q))"
   ]
  },
  {
   "cell_type": "code",
   "execution_count": null,
   "id": "4de62a17-8968-4481-86cf-7aefeb153191",
   "metadata": {},
   "outputs": [],
   "source": [
    "def explicit_euler_pendulum(h):\n",
    "    print(h)\n",
    "    simulation = simulate(ivp_pendulum, explicit_euler, h, duration=55.0)\n",
    "    plot_trajectory(simulation)\n",
    "    plot_phase_portrait(simulation)\n",
    "    plot_function(simulation, \"energy\", pendulum_energy)\n",
    "\n",
    "ipywidgets.interact(explicit_euler_pendulum, h=(0.005,0.25,0.02));"
   ]
  },
  {
   "cell_type": "code",
   "execution_count": null,
   "id": "c4329a2f-4fc5-4cca-8db3-1a9eb1d6f13a",
   "metadata": {},
   "outputs": [],
   "source": [
    "def convergence(ivp, scheme, function=lambda x: x):\n",
    "    hs, errors, ps, p = convergence_study(ivp, scheme, hs=[0.01, 0.05, 0.125, 0.25], duration=15.25, function=function)\n",
    "    plot_errors(hs, errors)\n",
    "    print(ps)\n",
    "    print(f\"estimated order of convergence: {p}\")"
   ]
  },
  {
   "cell_type": "code",
   "execution_count": null,
   "id": "43c71b95-3522-4ebe-9ea3-5c9c4cb8862d",
   "metadata": {},
   "outputs": [],
   "source": [
    "convergence(ivp_pendulum, symplectic_euler)"
   ]
  },
  {
   "cell_type": "code",
   "execution_count": null,
   "id": "366528ca-ed35-4a9a-bf58-b95d65c619c9",
   "metadata": {},
   "outputs": [],
   "source": []
  }
 ],
 "metadata": {
  "kernelspec": {
   "display_name": "Python 3 (ipykernel)",
   "language": "python",
   "name": "python3"
  },
  "language_info": {
   "codemirror_mode": {
    "name": "ipython",
    "version": 3
   },
   "file_extension": ".py",
   "mimetype": "text/x-python",
   "name": "python",
   "nbconvert_exporter": "python",
   "pygments_lexer": "ipython3",
   "version": "3.9.13"
  }
 },
 "nbformat": 4,
 "nbformat_minor": 5
}
